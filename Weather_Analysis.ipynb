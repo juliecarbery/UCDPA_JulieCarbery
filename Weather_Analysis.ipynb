{
 "cells": [
  {
   "cell_type": "markdown",
   "id": "6b1b33b8-c1e1-4dab-8bbb-695a83ca407c",
   "metadata": {},
   "source": [
    "Blurb"
   ]
  },
  {
   "cell_type": "code",
   "execution_count": 1,
   "id": "98c83584-0e64-4f1c-ae7c-3c17b1a81a74",
   "metadata": {},
   "outputs": [],
   "source": [
    "# Importing the python packages required\n",
    "import numpy as np\n",
    "import pandas as pd\n",
    "import matplotlib.pyplot as plt\n",
    "import seaborn as sns\n",
    "import os as os"
   ]
  },
  {
   "cell_type": "markdown",
   "id": "b00b93e9-1cea-4279-baa2-3d0110110b05",
   "metadata": {
    "tags": []
   },
   "source": [
    "Plan\n",
    "- Read in csv file\n",
    "    - Ireland dataset\n",
    "    - New York dataset\n",
    "  \n",
    "- Look at data\n",
    "    - dataset.head()\n",
    "    - dataset.info (column names, no of entries that aren't null, type per column)\n",
    "    \n",
    " - Cleaning up the data\n",
    "    - dataset.count() (shows the total no of non null values in each column - can be applied on single column)\n",
    "    - dataset.isnull().sum()  check for missing values\n",
    "    - drop duplicates\n",
    "    \n",
    "- Standardise dataset\n",
    "    - Rename columns of interest , date and Max Temp\n",
    "    - Drop unnecessary columns (slice using .loc)\n",
    "    - convert F to Celsius (use function)\n",
    "    \n",
    "    \n",
    "- Slice dataset for 8 decade period\n",
    "    - Convert date column to datetime\n",
    "    - Same time periods, 1 Jan 1943 to 31 Dec 2022 => 8 decades -> remove rows where date is less than min and greater than max\n",
    "    - add year and month column\n",
    "    \n",
    "- Look at data again\n",
    "    - dataset.head()\n",
    "    - dataset.describe()  ( prints out the mean, min , max of all columns \n",
    "   \n",
    "    \n",
    "\n",
    "- Aggregating/manipulating the Data\n",
    "    - Extract month and year from date \n",
    "    - Extract dataframe per calendar month\n",
    "    - Group by year (year becomes indexe), and get average per year\n",
    "    - Calculate rolling average (over 10 years) of Max temp\n",
    "    \n",
    "    - Do above for each month\n",
    "        \n",
    "  \n",
    "  \n",
    "- Plot the data (plotting temps to see if there is an upward trend)\n",
    "\n",
    "    - Plot rolling average with trend line for each month\n",
    "    \n",
    "    \n",
    "    \n",
    "    QS\n",
    "    - how to create nice visuals, sub plots to show trends?\n",
    "    - where could I bring in a function?\n",
    "        \n",
    "      "
   ]
  },
  {
   "cell_type": "code",
   "execution_count": null,
   "id": "a0bf50d6-42ed-473a-8b7f-45a81875f163",
   "metadata": {},
   "outputs": [],
   "source": [
    "irish_weather = pd.read_csv('../archive/weather_glasnevin.csv', low_memory = False)"
   ]
  },
  {
   "cell_type": "code",
   "execution_count": null,
   "id": "20580d09-7b16-4928-853e-f6f753d871c0",
   "metadata": {},
   "outputs": [],
   "source": []
  }
 ],
 "metadata": {
  "kernelspec": {
   "display_name": "Python 3 (ipykernel)",
   "language": "python",
   "name": "python3"
  },
  "language_info": {
   "codemirror_mode": {
    "name": "ipython",
    "version": 3
   },
   "file_extension": ".py",
   "mimetype": "text/x-python",
   "name": "python",
   "nbconvert_exporter": "python",
   "pygments_lexer": "ipython3",
   "version": "3.10.9"
  }
 },
 "nbformat": 4,
 "nbformat_minor": 5
}
